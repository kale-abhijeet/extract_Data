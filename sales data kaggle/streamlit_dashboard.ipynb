{
 "cells": [
  {
   "cell_type": "code",
   "execution_count": 2,
   "id": "8a959805-6ca3-4553-a91c-b14c2783a93e",
   "metadata": {},
   "outputs": [
    {
     "name": "stderr",
     "output_type": "stream",
     "text": [
      "2025-05-16 14:55:48.890 No runtime found, using MemoryCacheStorageManager\n"
     ]
    }
   ],
   "source": [
    "import streamlit as st\n",
    "import pandas as pd\n",
    "import seaborn as sns\n",
    "import matplotlib.pyplot as plt\n",
    "import plotly.express as px\n",
    "import datetime as dt\n",
    "\n",
    "# Set page config\n",
    "st.set_page_config(page_title=\"E-commerce Dashboard\", layout=\"wide\")\n",
    "\n",
    "# Load data\n",
    "@st.cache_data\n",
    "def load_data():\n",
    "    df = pd.read_csv('data.csv', encoding='ISO-8859-1')\n",
    "    df.dropna(subset=['CustomerID'], inplace=True)\n",
    "    df = df[df['Quantity'] > 0]\n",
    "    df = df[df['UnitPrice'] > 0]\n",
    "    df['TotalPrice'] = df['Quantity'] * df['UnitPrice']\n",
    "    df['InvoiceDate'] = pd.to_datetime(df['InvoiceDate'])\n",
    "    df['InvoiceMonth'] = df['InvoiceDate'].dt.to_period('M').dt.to_timestamp()\n",
    "    return df\n",
    "\n",
    "# Load the data\n",
    "df = load_data()\n",
    "\n",
    "st.title(\"📊 E-commerce Sales Dashboard\")\n",
    "\n",
    "# Tabs\n",
    "overview, sales_tab, products_tab, rfm_tab, country_tab = st.tabs([\"Overview\", \"Monthly Sales\", \"Top Products\", \"RFM Segmentation\", \"Country-wise Sales\"])\n",
    "\n",
    "# --- Monthly Sales ---\n",
    "with sales_tab:\n",
    "    st.header(\"📈 Monthly Sales Trend\")\n",
    "    monthly_sales = df.groupby('InvoiceMonth')['TotalPrice'].sum().reset_index()\n",
    "    fig = px.line(monthly_sales, x='InvoiceMonth', y='TotalPrice', title='Total Sales Over Time')\n",
    "    st.plotly_chart(fig, use_container_width=True)\n",
    "\n",
    "# --- Top Products ---\n",
    "with products_tab:\n",
    "    st.header(\"🏆 Top 10 Products by Revenue\")\n",
    "    top_products = df.groupby('Description')['TotalPrice'].sum().sort_values(ascending=False).head(10).reset_index()\n",
    "    fig = px.bar(top_products, x='TotalPrice', y='Description', orientation='h', title='Top Products', color='TotalPrice')\n",
    "    st.plotly_chart(fig, use_container_width=True)\n",
    "\n",
    "# --- RFM Segmentation ---\n",
    "with rfm_tab:\n",
    "    st.header(\"🔍 RFM Segmentation\")\n",
    "    snapshot_date = df['InvoiceDate'].max() + dt.timedelta(days=1)\n",
    "    rfm = df.groupby('CustomerID').agg({\n",
    "        'InvoiceDate': lambda x: (snapshot_date - x.max()).days,\n",
    "        'InvoiceNo': 'nunique',\n",
    "        'TotalPrice': 'sum'\n",
    "    }).reset_index()\n",
    "    rfm.columns = ['CustomerID', 'Recency', 'Frequency', 'Monetary']\n",
    "    \n",
    "    fig1 = px.histogram(rfm, x='Recency', nbins=20, title='Recency Distribution')\n",
    "    fig2 = px.histogram(rfm, x='Frequency', nbins=20, title='Frequency Distribution')\n",
    "    fig3 = px.histogram(rfm, x='Monetary', nbins=20, title='Monetary Distribution')\n",
    "\n",
    "    st.plotly_chart(fig1, use_container_width=True)\n",
    "    st.plotly_chart(fig2, use_container_width=True)\n",
    "    st.plotly_chart(fig3, use_container_width=True)\n",
    "\n",
    "# --- Country-wise Sales ---\n",
    "with country_tab:\n",
    "    st.header(\"🌍 Country-wise Sales\")\n",
    "    country_sales = df.groupby('Country')['TotalPrice'].sum().sort_values(ascending=False).head(10).reset_index()\n",
    "    fig = px.bar(country_sales, x='TotalPrice', y='Country', orientation='h', title='Top Countries by Sales', color='TotalPrice')\n",
    "    st.plotly_chart(fig, use_container_width=True)\n",
    "\n",
    "# --- Overview tab (optional) ---\n",
    "with overview:\n",
    "    st.header(\"🧾 Data Overview\")\n",
    "    st.write(df.head())\n",
    "    st.metric(\"Total Revenue\", f\"£{df['TotalPrice'].sum():,.2f}\")\n",
    "    st.metric(\"Unique Customers\", df['CustomerID'].nunique())\n",
    "    st.metric(\"Total Invoices\", df['InvoiceNo'].nunique())\n"
   ]
  },
  {
   "cell_type": "code",
   "execution_count": null,
   "id": "5f67b8f8-a06a-4423-9b1f-9ff408d0e5b0",
   "metadata": {},
   "outputs": [],
   "source": []
  }
 ],
 "metadata": {
  "kernelspec": {
   "display_name": "Python 3 (ipykernel)",
   "language": "python",
   "name": "python3"
  },
  "language_info": {
   "codemirror_mode": {
    "name": "ipython",
    "version": 3
   },
   "file_extension": ".py",
   "mimetype": "text/x-python",
   "name": "python",
   "nbconvert_exporter": "python",
   "pygments_lexer": "ipython3",
   "version": "3.12.7"
  }
 },
 "nbformat": 4,
 "nbformat_minor": 5
}
