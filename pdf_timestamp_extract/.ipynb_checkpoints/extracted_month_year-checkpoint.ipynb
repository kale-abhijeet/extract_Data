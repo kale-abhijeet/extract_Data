{
 "cells": [
  {
   "cell_type": "code",
   "execution_count": 1,
   "id": "947b9c74-73a6-494e-bd6a-a1c353463c65",
   "metadata": {},
   "outputs": [],
   "source": [
    "# pip install kagglehub"
   ]
  },
  {
   "cell_type": "code",
   "execution_count": 2,
   "id": "ba347405-79d3-41e5-8f98-76301c63af65",
   "metadata": {},
   "outputs": [],
   "source": [
    "# import kagglehub\n",
    "\n",
    "# # Download latest version\n",
    "# path = kagglehub.dataset_download(\"manisha717/dataset-of-pdf-files\")\n",
    "\n",
    "# print(\"Path to dataset files:\", path)"
   ]
  },
  {
   "cell_type": "code",
   "execution_count": 3,
   "id": "06d9decc-2944-46b6-aa13-c4a27ab6d110",
   "metadata": {},
   "outputs": [],
   "source": [
    "# pip install PyPDF3"
   ]
  },
  {
   "cell_type": "code",
   "execution_count": 5,
   "id": "e4673982-8a4a-42bf-a5f2-41846defe4d8",
   "metadata": {
    "scrolled": true
   },
   "outputs": [],
   "source": [
    "import re\n",
    "from PyPDF3 import PdfFileReader\n"
   ]
  },
  {
   "cell_type": "code",
   "execution_count": 17,
   "id": "d1c3d666-8ec9-4eae-b025-6ecae591a767",
   "metadata": {},
   "outputs": [
    {
     "name": "stdout",
     "output_type": "stream",
     "text": [
      "('Page 2', 'September', '2020')\n",
      "('Page 5', 'March', '2019')\n",
      "('Page 5', 'March', '2020')\n",
      "('Page 5', 'March', '2019')\n",
      " data type of data is <class 'list'>\n",
      "<class 'list'>\n"
     ]
    }
   ],
   "source": [
    "def extract_year_month_pypdf3(pdf_path):\n",
    "    with open(pdf_path, \"rb\") as file:\n",
    "        reader = PdfFileReader(file)\n",
    "        results = []\n",
    "\n",
    "        year_pattern = r\"\\b(20\\d{2}|19\\d{2})\\b\"\n",
    "        month_pattern = r\"\\b(January|February|March|April|May|June|July|August|September|October|November|December)\\b\"\n",
    "\n",
    "        for page_num in range(reader.getNumPages()):\n",
    "            text = reader.getPage(page_num).extractText()  # <-- fix here\n",
    "            if text:\n",
    "                years = re.findall(year_pattern, text)\n",
    "                months = re.findall(month_pattern, text)\n",
    "                # results.append((months, years))\n",
    "\n",
    "                for month in months:\n",
    "                    for year in years:\n",
    "                        results.append((\"Page \" + str(page_num + 1) , month , year ))\n",
    "\n",
    "        return results\n",
    "\n",
    "\n",
    "pdf_path = \"manisha717/dataset-of-pdf-files/versions/1/Pdf/08036c5a50a93da84c5c45ba468c58159d75281e.pdf\"\n",
    "\n",
    "data = extract_year_month_pypdf3(pdf_path)\n",
    "\n",
    "# print(data)\n",
    "for i in data:\n",
    "    print(i)\n",
    "\n",
    "print(f\" data type of data is {type(data)}\")\n",
    "print(type(data))\n"
   ]
  },
  {
   "cell_type": "code",
   "execution_count": 20,
   "id": "8f7eda08-9794-4c8a-8eae-342838da966c",
   "metadata": {},
   "outputs": [
    {
     "name": "stdout",
     "output_type": "stream",
     "text": [
      "Data saved successfully to extracted_month_year.csv\n"
     ]
    }
   ],
   "source": [
    "import csv\n",
    "\n",
    "csv_filename = \"extracted_month_year.csv\"\n",
    "\n",
    "with open(csv_filename, mode='w', newline='', encoding='utf-8') as file:\n",
    "    writer = csv.writer(file)  # <-- Use csv.writer, NOT csv.write\n",
    "\n",
    "    # Write the header row\n",
    "    writer.writerow(['Page', 'Month', 'Year'])\n",
    "\n",
    "    # Write each data row\n",
    "    for row in data:\n",
    "        writer.writerow(row)  # <-- Correct method name is writer.writerow, not writerrow\n",
    "\n",
    "print(f\"Data saved successfully to {csv_filename}\")\n",
    "\n"
   ]
  },
  {
   "cell_type": "code",
   "execution_count": null,
   "id": "ba69c6ab-8542-47d5-8b8b-916abf712b6a",
   "metadata": {},
   "outputs": [],
   "source": []
  }
 ],
 "metadata": {
  "kernelspec": {
   "display_name": "Python 3 (ipykernel)",
   "language": "python",
   "name": "python3"
  },
  "language_info": {
   "codemirror_mode": {
    "name": "ipython",
    "version": 3
   },
   "file_extension": ".py",
   "mimetype": "text/x-python",
   "name": "python",
   "nbconvert_exporter": "python",
   "pygments_lexer": "ipython3",
   "version": "3.12.7"
  }
 },
 "nbformat": 4,
 "nbformat_minor": 5
}
